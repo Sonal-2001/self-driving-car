{
 "cells": [
  {
   "cell_type": "code",
   "execution_count": 27,
   "id": "a64476a0",
   "metadata": {},
   "outputs": [
    {
     "name": "stdout",
     "output_type": "stream",
     "text": [
      "Successful!!!!\n"
     ]
    }
   ],
   "source": [
    "import os\n",
    "from itertools import islice\n",
    "from scipy import pi\n",
    "import numpy as np\n",
    "\n",
    "DATA_FOLDER = \"./driving_dataset/\"\n",
    "TRAIN_FILE = os.path.join(DATA_FOLDER, 'data.txt')\n",
    "LIMIT = None\n",
    "\n",
    "split = 0.8\n",
    "X = []\n",
    "y = []\n",
    "\n",
    "with open(TRAIN_FILE) as fp:\n",
    "    for line in islice(fp, LIMIT):\n",
    "        path, angle = line.strip().split()\n",
    "        full_path = os.path.join(DATA_FOLDER, path)\n",
    "        X.append(full_path)\n",
    "    \n",
    "        y.append(float(angle)*pi/100)\n",
    "    \n",
    "y = np.array(y)\n",
    "print(\"Successful!!!!\")"
   ]
  },
  {
   "cell_type": "code",
   "execution_count": 28,
   "id": "0b6ece91",
   "metadata": {},
   "outputs": [],
   "source": [
    "# Split Dataset\n",
    "\n",
    "split_index = int(len(y)*0.8)"
   ]
  },
  {
   "cell_type": "code",
   "execution_count": 29,
   "id": "18113d7f",
   "metadata": {},
   "outputs": [],
   "source": [
    "train_y = y[:split_index]"
   ]
  },
  {
   "cell_type": "code",
   "execution_count": 30,
   "id": "2b773dee",
   "metadata": {},
   "outputs": [],
   "source": [
    "test_y = y[split_index:]"
   ]
  },
  {
   "cell_type": "code",
   "execution_count": 31,
   "id": "3fae652e",
   "metadata": {},
   "outputs": [
    {
     "data": {
      "text/plain": [
       "(array([  26.,   12.,   23.,   23.,   16.,   25.,    7.,    4.,    7.,\n",
       "           3.,    3.,    5.,    4.,    4.,    4.,    5.,    5.,   17.,\n",
       "          18.,   21.,   67.,   41.,   17.,   19.,   15.,   15.,   16.,\n",
       "          24.,   25.,  152.,  280.,  126.,  325.,  759., 2609.,  944.,\n",
       "        1806.,  727.,  245.,  258.,  132.,   30.,   20.,   53.,   75.,\n",
       "          46.,    6.,    4.,    5.,    9.]),\n",
       " array([-5.02434913, -4.87773728, -4.73112544, -4.58451359, -4.43790175,\n",
       "        -4.2912899 , -4.14467806, -3.99806621, -3.85145436, -3.70484252,\n",
       "        -3.55823067, -3.41161883, -3.26500698, -3.11839513, -2.97178329,\n",
       "        -2.82517144, -2.6785596 , -2.53194775, -2.3853359 , -2.23872406,\n",
       "        -2.09211221, -1.94550037, -1.79888852, -1.65227667, -1.50566483,\n",
       "        -1.35905298, -1.21244114, -1.06582929, -0.91921744, -0.7726056 ,\n",
       "        -0.62599375, -0.47938191, -0.33277006, -0.18615821, -0.03954637,\n",
       "         0.10706548,  0.25367732,  0.40028917,  0.54690102,  0.69351286,\n",
       "         0.84012471,  0.98673655,  1.1333484 ,  1.27996025,  1.42657209,\n",
       "         1.57318394,  1.71979578,  1.86640763,  2.01301948,  2.15963132,\n",
       "         2.30624317]),\n",
       " [<matplotlib.patches.Polygon at 0x2243a3fe130>])"
      ]
     },
     "execution_count": 31,
     "metadata": {},
     "output_type": "execute_result"
    },
    {
     "data": {
      "image/png": "[encoded data removed]",
      "text/plain": [
       "<Figure size 432x288 with 1 Axes>"
      ]
     },
     "metadata": {
      "needs_background": "light"
     },
     "output_type": "display_data"
    }
   ],
   "source": [
    "import matplotlib.pyplot as plt\n",
    "plt.hist(train_y, bins = 50, color = 'blue', histtype = 'step')\n",
    "plt.hist(test_y, bins = 50, color = 'red', histtype = 'step')"
   ]
  },
  {
   "cell_type": "code",
   "execution_count": 34,
   "id": "551b467f",
   "metadata": {},
   "outputs": [],
   "source": [
    "# Regression Problem\n",
    "\n",
    "# I/p = images\n",
    "# O/p = angle\n",
    "# MSE\n",
    "\n",
    "train_mean_y = np.mean(train_y)"
   ]
  },
  {
   "cell_type": "code",
   "execution_count": 35,
   "id": "00ccf484",
   "metadata": {},
   "outputs": [
    {
     "data": {
      "text/plain": [
       "0.6192510707709883"
      ]
     },
     "execution_count": 35,
     "metadata": {},
     "output_type": "execute_result"
    }
   ],
   "source": [
    "np.mean(np.square(test_y - train_mean_y))"
   ]
  },
  {
   "cell_type": "code",
   "execution_count": 36,
   "id": "babfe97a",
   "metadata": {},
   "outputs": [
    {
     "data": {
      "text/plain": [
       "0.6184869809073972"
      ]
     },
     "execution_count": 36,
     "metadata": {},
     "output_type": "execute_result"
    }
   ],
   "source": [
    "np.mean(np.square(test_y - 0.0))"
   ]
  }
 ],
 "metadata": {
  "kernelspec": {
   "display_name": "Python 3 (ipykernel)",
   "language": "python",
   "name": "python3"
  },
  "language_info": {
   "codemirror_mode": {
    "name": "ipython",
    "version": 3
   },
   "file_extension": ".py",
   "mimetype": "text/x-python",
   "name": "python",
   "nbconvert_exporter": "python",
   "pygments_lexer": "ipython3",
   "version": "3.9.7"
  }
 },
 "nbformat": 4,
 "nbformat_minor": 5
}
